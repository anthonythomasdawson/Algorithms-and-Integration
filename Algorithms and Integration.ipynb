{
 "cells": [
  {
   "cell_type": "markdown",
   "metadata": {},
   "source": [
    "# Algorithms and Integration\n",
    " \n",
    "Anthony Dawson 2020.ipynb\n",
    "\n",
    "30/11/20\n",
    "\n",
    "---\n",
    "\n",
    "This programme will numerically integrate the following \n",
    "\n",
    "$$ f(x) = {x}^3 - {3x}^2 -2x +190$$\n",
    "\n",
    "With the solution of:\n",
    "\n",
    "$$\\int_{-2}^2 f(x) \\,dx= 744$$\n",
    "\n",
    "Using a number of different methods\n",
    "\n",
    "The programme will then simulate a game of craps using similar methods to part 4 \n",
    "\n",
    "----\n",
    "\n",
    "1. Define rectangle rule function\n",
    "2. Complete integrations and output area\n",
    "3. Set the no. of iterations for each integration\n",
    "4. Perform and time each integration\n",
    "5. Define the accuracy function\n",
    "6. Define the accuracy plot function\n",
    "7. Start timer and use scipy to calculate integral\n",
    "8. Define the Monte Carlo function\n",
    "9. Use plot accuracy function to plot accuracy\n",
    "10. Define probabilities for 2 die\n",
    "11. Model Game 1\n",
    "12. Print winrate and loss rate for 1000 games"
   ]
  },
  {
   "cell_type": "markdown",
   "metadata": {},
   "source": [
    "Task 1: Rectangle Rule"
   ]
  },
  {
   "cell_type": "code",
   "execution_count": 4,
   "metadata": {},
   "outputs": [
    {
     "data": {
      "text/plain": [
       "743.9967996799702"
      ]
     },
     "execution_count": 4,
     "metadata": {},
     "output_type": "execute_result"
    }
   ],
   "source": [
    "#Import necessary libraries\n",
    "import matplotlib.pyplot as plt\n",
    "import numpy as np\n",
    "\n",
    "#Define number of iterations\n",
    "N = 10000\n",
    "\n",
    "# Define f(x)\n",
    "def function(x):\n",
    "    return((x**3) - (3*(x**2)) - (2*x) + 190)\n",
    "\n",
    "# Define rectangle rule function\n",
    "def Rectangle_rule(a, b, f, N):\n",
    "    h = (b-a)/N\n",
    "    x=np.linspace(a, b, N)\n",
    "    area=0\n",
    "    for i in range(len(x)):\n",
    "        #Compute the area of each rectangle in range\n",
    "        area+= (f(x[i])*h)\n",
    "    return(area)\n",
    "\n",
    "\n",
    "#Complete integrations and output area\n",
    "Rectangle_rule(-2, +2, function, N)    \n",
    "    "
   ]
  },
  {
   "cell_type": "markdown",
   "metadata": {},
   "source": [
    "Task 2: Accuracy and Performance of Rectangle Rule"
   ]
  },
  {
   "cell_type": "code",
   "execution_count": 5,
   "metadata": {},
   "outputs": [
    {
     "name": "stdout",
     "output_type": "stream",
     "text": [
      "0.000298999999984062\n",
      "0.0006207000000131302\n",
      "0.0040978000000109205\n",
      "0.04015820000000758\n",
      "0.3984961999999541\n"
     ]
    }
   ],
   "source": [
    "import time\n",
    "from time import perf_counter \n",
    "\n",
    "# Set the no. of iterations for each integration\n",
    "N_1 = 10\n",
    "N_2 = 100\n",
    "N_3 = 1000\n",
    "N_4 = 10000\n",
    "N_5 = 100000\n",
    "\n",
    "#Perform and time each integration\n",
    "start = perf_counter()\n",
    "Rectangle_rule(-2, +2, function, N_1)\n",
    "end = perf_counter()\n",
    "print(end - start)\n",
    "\n",
    "start = perf_counter()\n",
    "Rectangle_rule(-2, +2, function, N_2)\n",
    "end = perf_counter()\n",
    "print(end - start)\n",
    "\n",
    "start = perf_counter()\n",
    "Rectangle_rule(-2, +2, function, N_3)\n",
    "end = perf_counter()\n",
    "print(end - start)\n",
    "\n",
    "start = perf_counter()\n",
    "Rectangle_rule(-2, +2, function, N_4)\n",
    "end = perf_counter()\n",
    "print(end - start)\n",
    "\n",
    "start = perf_counter()\n",
    "Rectangle_rule(-2, +2, function, N_5)\n",
    "end = perf_counter()\n",
    "print(end - start)"
   ]
  },
  {
   "cell_type": "code",
   "execution_count": 15,
   "metadata": {},
   "outputs": [
    {
     "data": {
      "image/png": "[encoded data removed]",
      "text/plain": [
       "<Figure size 432x288 with 1 Axes>"
      ]
     },
     "metadata": {
      "needs_background": "light"
     },
     "output_type": "display_data"
    }
   ],
   "source": [
    "import matplotlib.pyplot as plt\n",
    "import numpy as np\n",
    "\n",
    "# Define the accuracy function\n",
    "def accuracy(f,I,a, b, n):\n",
    "    result= []\n",
    "    for x in n:\n",
    "        result.append(I(f, a, b, x))\n",
    "    acc = 1-(abs(np.array(result) - 744)/744)\n",
    "    return acc\n",
    "\n",
    "# Define the accuracy plot function\n",
    "def plot_accuracy(I):\n",
    "    num_of_steps = np.array([pow(10,x) for x in range(1,6)])  # Iterations for 10^n\n",
    "    plt.plot(num_of_steps, accuracy(f,I, -2, 2, num_of_steps))\n",
    "    plt.xlabel(\"number of iterations\")\n",
    "    plt.xscale('log')\n",
    "    plt.ylabel(\"accuracy\")\n",
    "    plt.show()\n",
    "\n",
    "plot_accuracy(Rectangle_Rule)"
   ]
  },
  {
   "cell_type": "markdown",
   "metadata": {},
   "source": [
    "Task 3: Scipy package"
   ]
  },
  {
   "cell_type": "code",
   "execution_count": 9,
   "metadata": {},
   "outputs": [
    {
     "name": "stdout",
     "output_type": "stream",
     "text": [
      "0.00017990000003464957\n"
     ]
    }
   ],
   "source": [
    "import scipy.integrate as integrate\n",
    "\n",
    "# Start timer and use scipy to calculate integral\n",
    "start = perf_counter()\n",
    "integrate.quad(function, -2, 2)\n",
    "end = perf_counter()\n",
    "print(end - start)"
   ]
  },
  {
   "cell_type": "markdown",
   "metadata": {},
   "source": [
    "Task 4: Monte Carlo and Visualisation"
   ]
  },
  {
   "cell_type": "code",
   "execution_count": 14,
   "metadata": {},
   "outputs": [
    {
     "name": "stdout",
     "output_type": "stream",
     "text": [
      "The integral from -2 to 2 of the function:  744.1160917770725\n"
     ]
    }
   ],
   "source": [
    "from scipy import random\n",
    "import numpy as np\n",
    "import matplotlib.pyplot as plt\n",
    "\n",
    "a = -2\n",
    "b = 2\n",
    "N = 1000\n",
    "xrand = np.zeros(N)\n",
    "\n",
    "for i in range(len(xrand)):\n",
    "    xrand[i] = random.uniform(a,b)\n",
    "    \n",
    "integral = 0.0\n",
    "\n",
    "for i in range(N):\n",
    "    integral += function(xrand[i])\n",
    "    \n",
    "result = (b-a)/float(N)*integral\n",
    "print(\"The integral from -2 to 2 of the function: \", result)\n"
   ]
  },
  {
   "cell_type": "code",
   "execution_count": 17,
   "metadata": {},
   "outputs": [
    {
     "data": {
      "image/png": "[encoded data removed]",
      "text/plain": [
       "<Figure size 432x288 with 1 Axes>"
      ]
     },
     "metadata": {
      "needs_background": "light"
     },
     "output_type": "display_data"
    }
   ],
   "source": [
    "from scipy import random\n",
    "import numpy as np\n",
    "import matplotlib.pyplot as plt\n",
    "\n",
    "# Define the Monte Carlo function\n",
    "def monty(function,a,b,n):\n",
    "    sumval = 0.0\n",
    "    the_range = np.random.uniform(a,b,n)\n",
    "    for i in the_range:\n",
    "        i = float(i)\n",
    "        sumval = sumval + function(i)\n",
    "    sumval = (b-a)/n * sumval\n",
    "    return sumval\n",
    "\n",
    "plot_accuracy(monty)"
   ]
  },
  {
   "cell_type": "code",
   "execution_count": 6,
   "metadata": {},
   "outputs": [
    {
     "name": "stdout",
     "output_type": "stream",
     "text": [
      "47.10% wins\n",
      "52.90% losses\n"
     ]
    }
   ],
   "source": [
    "from scipy import random\n",
    "\n",
    "N_C = 1000\n",
    "\n",
    "\n",
    "# Define probabilities for 2 die\n",
    "def Dice_2():\n",
    "    dice1 = random.randint(1, 6)\n",
    "    dice2 = random.randint(1, 6)\n",
    "    roll = dice1 + dice2\n",
    "    return roll\n",
    "\n",
    "# Model Game 1\n",
    "def Game_1():\n",
    "    initial_roll = Dice_2()\n",
    "    if initial_roll == 7 or initial_roll == 11:\n",
    "        return True     # win\n",
    "    elif initial_roll == 2 or initial_roll == 3 or initial_roll == 12:\n",
    "        return False    #lose\n",
    "    else:\n",
    "        roll = Dice_2()\n",
    "        while roll != 7 and roll != initial_roll:\n",
    "            roll = Dice_2()\n",
    "        if roll == 7:\n",
    "            return False   \n",
    "        else:\n",
    "            return True    \n",
    "\n",
    "# Simulate N number of games of craps\n",
    "def sim_N_C(N_C):\n",
    "    wins = 0\n",
    "    for i in range(N_C):\n",
    "        if Game_1():\n",
    "            wins += 1\n",
    "    return wins\n",
    "\n",
    "# Print winrate and loss rate for 1000 games\n",
    "def print_prob(wins, total):\n",
    "    winrate = wins / total\n",
    "    lossrate = (1 - winrate)\n",
    "    print(\"{2:0.2%} wins\".format(wins, total, winrate))\n",
    "    print(\"{2:0.2%} losses\".format(wins, total, lossrate))\n",
    "\n",
    "wins = sim_N_C(N_C)\n",
    "print_prob(wins, N_C)"
   ]
  },
  {
   "cell_type": "code",
   "execution_count": null,
   "metadata": {},
   "outputs": [],
   "source": []
  }
 ],
 "metadata": {
  "kernelspec": {
   "display_name": "Python 3",
   "language": "python",
   "name": "python3"
  },
  "language_info": {
   "codemirror_mode": {
    "name": "ipython",
    "version": 3
   },
   "file_extension": ".py",
   "mimetype": "text/x-python",
   "name": "python",
   "nbconvert_exporter": "python",
   "pygments_lexer": "ipython3",
   "version": "3.8.3"
  }
 },
 "nbformat": 4,
 "nbformat_minor": 2
}
